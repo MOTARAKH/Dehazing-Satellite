{
  "cells": [
    {
      "cell_type": "code",
      "execution_count": null,
      "metadata": {
        "colab": {
          "base_uri": "https://localhost:8080/"
        },
        "id": "S3kyShu3tsS7",
        "outputId": "79723146-2a9b-481f-b19d-c08df5f34284"
      },
      "outputs": [],
      "source": [
        "!pip install torch torchvision numpy opencv-python grad-cam"
      ]
    },
    {
      "cell_type": "code",
      "execution_count": null,
      "metadata": {
        "id": "tfHxVBhGtxz6"
      },
      "outputs": [],
      "source": [
        "import cv2\n",
        "import numpy as np\n",
        "import torch\n",
        "from torchvision import transforms\n",
        "\n",
        "# Load the high-resolution .tiff image\n",
        "image_path = '/content/aoi0.tif'\n",
        "image = cv2.imread(image_path, cv2.IMREAD_UNCHANGED)\n",
        "\n",
        "# Convert the img to RGB if the image has more than one channel\n",
        "if len(image.shape) == 3 and image.shape[2] == 4:\n",
        "    image = cv2.cvtColor(image, cv2.COLOR_BGRA2BGR)\n",
        "elif len(image.shape) == 2 or image.shape[2] == 1:\n",
        "    image = cv2.cvtColor(image, cv2.COLOR_GRAY2BGR)\n",
        "\n",
        "# Resize the image to match the model's expected input size (e.g., 256x256)\n",
        "resize = transforms.Resize((256, 256))\n",
        "to_tensor = transforms.ToTensor()\n",
        "normalize = transforms.Normalize(mean=[0.5, 0.5, 0.5], std=[0.5, 0.5, 0.5])\n",
        "\n",
        "# Apply transformations\n",
        "image = cv2.cvtColor(image, cv2.COLOR_BGR2RGB)\n",
        "image_pil = transforms.ToPILImage()(image)\n",
        "image_resized = resize(image_pil)\n",
        "image_tensor = to_tensor(image_resized)\n",
        "image_tensor = normalize(image_tensor).unsqueeze(0)\n"
      ]
    },
    {
      "cell_type": "code",
      "execution_count": null,
      "metadata": {
        "id": "PMkHp-QJ3gCY"
      },
      "outputs": [],
      "source": [
        "from dehazeformer import DehazeFormer\n",
        "\n",
        "# Initialize the model\n",
        "model = DehazeFormer()\n",
        "model.load_state_dict(torch.load('/content/dehazeformer-b.pth'))\n",
        "model.eval()"
      ]
    },
    {
      "cell_type": "code",
      "execution_count": null,
      "metadata": {
        "id": "26UxNS8WvfBv"
      },
      "outputs": [],
      "source": [
        "with torch.no_grad():\n",
        "    dehazed_image_tensor = model(image_tensor)\n",
        "\n",
        "# Post-process the output to convert it back to an image\n",
        "dehazed_image = dehazed_image_tensor.squeeze(0).cpu().numpy()\n",
        "dehazed_image = np.transpose(dehazed_image, (1, 2, 0))  # Change from (C, H, W) to (H, W, C)\n",
        "dehazed_image = (dehazed_image * 0.5 + 0.5) * 255  # Denormalize\n",
        "dehazed_image = dehazed_image.astype(np.uint8)\n",
        "\n",
        "# Save or display the dehazed image\n",
        "cv2.imwrite('dehazed_image.tiff', cv2.cvtColor(dehazed_image, cv2.COLOR_RGB2BGR))\n"
      ]
    },
    {
      "cell_type": "code",
      "execution_count": null,
      "metadata": {
        "id": "9Qx9bbjivgNT"
      },
      "outputs": [],
      "source": [
        "from pytorch_grad_cam import GradCAM\n",
        "from pytorch_grad_cam.utils.image import show_cam_on_image\n",
        "\n",
        "# Define a reshape_transform function for the transformer model\n",
        "def reshape_transform(tensor, height=16, width=16):\n",
        "    result = tensor[:, 1:, :].reshape(tensor.size(0),\n",
        "                                      height, width, tensor.size(2))\n",
        "    result = result.permute(0, 3, 1, 2)\n",
        "    return result\n",
        "\n",
        "# Select the target layer for Grad-CAM\n",
        "target_layer = model.encoder.layers[-1].self_attn\n",
        "\n",
        "# Initialize Grad-CAM\n",
        "cam = GradCAM(model=model, target_layers=[target_layer], reshape_transform=reshape_transform)\n",
        "\n",
        "# Generate the CAM\n",
        "grayscale_cam = cam(input_tensor=image_tensor, targets=None)\n",
        "\n",
        "# Visualize the CAM\n",
        "grayscale_cam = grayscale_cam[0, :]\n",
        "visualization = show_cam_on_image(np.array(image_resized) / 255., grayscale_cam, use_rgb=True)\n",
        "\n",
        "# Save or display the visualization\n",
        "cv2.imwrite('grad_cam_visualization.tiff', cv2.cvtColor(visualization, cv2.COLOR_RGB2BGR))\n"
      ]
    },
    {
      "cell_type": "code",
      "execution_count": null,
      "metadata": {
        "id": "fvbfJD3LvkWf"
      },
      "outputs": [],
      "source": []
    }
  ],
  "metadata": {
    "colab": {
      "provenance": []
    },
    "kernelspec": {
      "display_name": "Python 3",
      "name": "python3"
    },
    "language_info": {
      "name": "python"
    }
  },
  "nbformat": 4,
  "nbformat_minor": 0
}
