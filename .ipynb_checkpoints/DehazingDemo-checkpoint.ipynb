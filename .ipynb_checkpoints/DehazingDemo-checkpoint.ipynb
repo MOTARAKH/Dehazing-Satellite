{
 "cells": [
  {
   "cell_type": "code",
   "execution_count": 10,
   "id": "66b6f8f9-5b2e-4981-96cf-a05a1393f456",
   "metadata": {},
   "outputs": [
    {
     "ename": "ImportError",
     "evalue": "cannot import name 'dehaze_image' from 'dark_channel' (C:\\Jupyter\\satellite-dehazing\\./src\\dark_channel.py)",
     "output_type": "error",
     "traceback": [
      "\u001b[1;31m---------------------------------------------------------------------------\u001b[0m",
      "\u001b[1;31mImportError\u001b[0m                               Traceback (most recent call last)",
      "Cell \u001b[1;32mIn[10], line 19\u001b[0m\n\u001b[0;32m     16\u001b[0m \u001b[38;5;28;01mimport\u001b[39;00m\u001b[38;5;250m \u001b[39m\u001b[38;5;21;01msys\u001b[39;00m\n\u001b[0;32m     17\u001b[0m sys\u001b[38;5;241m.\u001b[39mpath\u001b[38;5;241m.\u001b[39mappend(\u001b[38;5;124m'\u001b[39m\u001b[38;5;124m./src\u001b[39m\u001b[38;5;124m'\u001b[39m)\n\u001b[1;32m---> 19\u001b[0m \u001b[38;5;28;01mfrom\u001b[39;00m\u001b[38;5;250m \u001b[39m\u001b[38;5;21;01mdark_channel\u001b[39;00m\u001b[38;5;250m \u001b[39m\u001b[38;5;28;01mimport\u001b[39;00m dehaze_image\n\u001b[0;32m     20\u001b[0m \u001b[38;5;28;01mfrom\u001b[39;00m\u001b[38;5;250m \u001b[39m\u001b[38;5;21;01mretinex\u001b[39;00m\u001b[38;5;250m \u001b[39m\u001b[38;5;28;01mimport\u001b[39;00m retinex_enhance\n\u001b[0;32m     22\u001b[0m \u001b[38;5;28;01mimport\u001b[39;00m\u001b[38;5;250m \u001b[39m\u001b[38;5;21;01mos\u001b[39;00m\n",
      "\u001b[1;31mImportError\u001b[0m: cannot import name 'dehaze_image' from 'dark_channel' (C:\\Jupyter\\satellite-dehazing\\./src\\dark_channel.py)"
     ]
    }
   ],
   "source": [
    "# ملف: DehazingDemo.ipynb\n",
    "\n",
    "# هذا النوتبوك يسمح لك بتجربة خوارزميات إزالة الضباب وتحسين الصور على صور الأقمار الصناعية\n",
    "\n",
    "# ✅ التجربة تشمل:\n",
    "# - Dark Channel Prior (DCP)\n",
    "# - Retinex (MSR و SSR)\n",
    "\n",
    "# ✅ المتطلبات:\n",
    "# pip install opencv-python numpy matplotlib\n",
    "\n",
    "\n",
    "import cv2\n",
    "import numpy as np\n",
    "import matplotlib.pyplot as plt\n",
    "import sys\n",
    "sys.path.append('./src')\n",
    "\n",
    "from dark_channel import dehaze_image\n",
    "from retinex import retinex_enhance\n",
    "\n",
    "import os\n",
    "\n",
    "# دالة لعرض الصور\n",
    "\n",
    "def show_image(img, title=\"Image\"):\n",
    "    if len(img.shape) == 3:\n",
    "        img = cv2.cvtColor(img, cv2.COLOR_BGR2RGB)\n",
    "    plt.imshow(img, cmap='gray')\n",
    "    plt.title(title)\n",
    "    plt.axis('off')\n",
    "    plt.show()\n",
    "\n",
    "# --- مثال لتجربة DCP ---\n",
    "\n",
    "input_path = 'data/sample_satellite.png'  # ضع اسم صورتك هنا\n",
    "output_path_dcp = 'results/sample_satellite_dcp.png'\n",
    "\n",
    "# تطبيق DCP\n",
    "print(\"\\n🚀 تطبيق DCP...\")\n",
    "dehaze_image(input_path, 'results')\n",
    "\n",
    "# عرض النتيجة\n",
    "img_dcp = cv2.imread(output_path_dcp)\n",
    "show_image(img_dcp, \"DCP Result\")\n",
    "\n",
    "# --- مثال لتجربة Retinex MSR ---\n",
    "\n",
    "output_path_msr = 'results/sample_satellite_msr.png'\n",
    "print(\"\\n🚀 تطبيق Retinex MSR...\")\n",
    "retinex_enhance(input_path, output_path_msr, method=\"MSR\")\n",
    "img_msr = cv2.imread(output_path_msr)\n",
    "show_image(img_msr, \"Retinex MSR Result\")\n",
    "\n",
    "# --- مثال لتجربة Retinex SSR ---\n",
    "\n",
    "output_path_ssr = 'results/sample_satellite_ssr.png'\n",
    "print(\"\\n🚀 تطبيق Retinex SSR...\")\n",
    "retinex_enhance(input_path, output_path_ssr, method=\"SSR\")\n",
    "img_ssr = cv2.imread(output_path_ssr)\n",
    "show_image(img_ssr, \"Retinex SSR Result\")\n"
   ]
  },
  {
   "cell_type": "code",
   "execution_count": 7,
   "id": "483e461b-7c3f-4717-b2a2-732ccf673616",
   "metadata": {},
   "outputs": [
    {
     "name": "stdout",
     "output_type": "stream",
     "text": [
      "None\n"
     ]
    }
   ],
   "source": [
    "import sys\n",
    "sys.path.append('./src')\n"
   ]
  }
 ],
 "metadata": {
  "kernelspec": {
   "display_name": "Python 3 (ipykernel)",
   "language": "python",
   "name": "python3"
  },
  "language_info": {
   "codemirror_mode": {
    "name": "ipython",
    "version": 3
   },
   "file_extension": ".py",
   "mimetype": "text/x-python",
   "name": "python",
   "nbconvert_exporter": "python",
   "pygments_lexer": "ipython3",
   "version": "3.11.5"
  }
 },
 "nbformat": 4,
 "nbformat_minor": 5
}
